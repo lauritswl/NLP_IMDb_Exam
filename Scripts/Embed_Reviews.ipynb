{
 "cells": [
  {
   "cell_type": "code",
   "execution_count": 7,
   "metadata": {},
   "outputs": [],
   "source": [
    "# Load libraries\n",
    "#!pip install -r /work/NLP_IMDb_Exam/requirements.txt\n",
    "import numpy as np\n",
    "import pandas as pd\n",
    "import torch\n",
    "import datasets\n",
    "import evaluate\n",
    "import seaborn as sns\n",
    "from transformers import pipeline\n",
    "from transformers import AutoTokenizer, AutoModelForTokenClassification, AutoModel\n",
    "from transformers import TrainingArguments, Trainer\n",
    "from transformers import DataCollatorForTokenClassification\n",
    "from sentence_transformers import SentenceTransformer"
   ]
  },
  {
   "cell_type": "code",
   "execution_count": null,
   "metadata": {},
   "outputs": [],
   "source": [
    "# Import dataset:\n",
    "IMDb_dataframe = pd.read_csv('/work/NLP_IMDb_Exam/Data/review_dataframe.csv')\n",
    "IMDb_dataframe = IMDb_dataframe[IMDb_dataframe['rating'] != \"Null\"] # Remove nulls\n",
    "IMDb_dataframe = IMDb_dataframe.reset_index(drop=True)\n",
    "# Load model for embedding:\n",
    "transformer_model = SentenceTransformer('sentence-transformers/all-mpnet-base-v2') # Choose the best sentence transformer according to https://www.sbert.net/docs/sentence_transformer/pretrained_models.html\n",
    "review_corpus = IMDb_dataframe[\"review\"].tolist()\n",
    "review_corpus = review_corpus[0:100000]"
   ]
  },
  {
   "cell_type": "code",
   "execution_count": null,
   "metadata": {},
   "outputs": [],
   "source": [
    "# Embed the model:\n",
    "reviews_embeddings = transformer_model.encode(review_corpus)"
   ]
  },
  {
   "cell_type": "code",
   "execution_count": null,
   "metadata": {},
   "outputs": [],
   "source": [
    "# Save embedding for future:\n",
    "emb_full = pd.DataFrame(reviews_embeddings) # Pandas dataframe of embeddings\n",
    "emb_full['rating'] = pd.to_numeric(IMDb_dataframe['rating'], errors='coerce')\n",
    "emb_full['average_rating'] = pd.to_numeric(IMDb_dataframe['average_rating'], errors='coerce')\n",
    "emb_full['review'] = IMDb_dataframe['review']\n",
    "emb_full.to_csv('../Data/IMDB_Embeddings_mpnet_Base.csv')"
   ]
  }
 ],
 "metadata": {
  "kernelspec": {
   "display_name": "Python 3",
   "language": "python",
   "name": "python3"
  },
  "language_info": {
   "codemirror_mode": {
    "name": "ipython",
    "version": 3
   },
   "file_extension": ".py",
   "mimetype": "text/x-python",
   "name": "python",
   "nbconvert_exporter": "python",
   "pygments_lexer": "ipython3",
   "version": "3.12.3"
  }
 },
 "nbformat": 4,
 "nbformat_minor": 2
}
