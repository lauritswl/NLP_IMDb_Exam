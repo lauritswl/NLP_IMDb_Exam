{
 "cells": [
  {
   "cell_type": "code",
   "execution_count": 158,
   "metadata": {},
   "outputs": [],
   "source": [
    "# Load libraries\n",
    "import pandas as pd"
   ]
  },
  {
   "cell_type": "code",
   "execution_count": 161,
   "metadata": {},
   "outputs": [
    {
     "data": {
      "text/html": [
       "<div>\n",
       "<style scoped>\n",
       "    .dataframe tbody tr th:only-of-type {\n",
       "        vertical-align: middle;\n",
       "    }\n",
       "\n",
       "    .dataframe tbody tr th {\n",
       "        vertical-align: top;\n",
       "    }\n",
       "\n",
       "    .dataframe thead th {\n",
       "        text-align: right;\n",
       "    }\n",
       "</style>\n",
       "<table border=\"1\" class=\"dataframe\">\n",
       "  <thead>\n",
       "    <tr style=\"text-align: right;\">\n",
       "      <th></th>\n",
       "      <th>movie_title</th>\n",
       "      <th>year</th>\n",
       "      <th>rating</th>\n",
       "      <th>title</th>\n",
       "      <th>review</th>\n",
       "      <th>average_rating</th>\n",
       "    </tr>\n",
       "  </thead>\n",
       "  <tbody>\n",
       "    <tr>\n",
       "      <th>9064</th>\n",
       "      <td>2001_ A Space Odyssey</td>\n",
       "      <td>1968</td>\n",
       "      <td>10</td>\n",
       "      <td>Legendary\\n</td>\n",
       "      <td>A stand-alone monument in cinema history, Stan...</td>\n",
       "      <td>NaN</td>\n",
       "    </tr>\n",
       "    <tr>\n",
       "      <th>9065</th>\n",
       "      <td>2001_ A Space Odyssey</td>\n",
       "      <td>1968</td>\n",
       "      <td>10</td>\n",
       "      <td>Unmatched accomplishment\\n</td>\n",
       "      <td>Sometimes reading the user comments on IMDB fi...</td>\n",
       "      <td>NaN</td>\n",
       "    </tr>\n",
       "    <tr>\n",
       "      <th>9066</th>\n",
       "      <td>2001_ A Space Odyssey</td>\n",
       "      <td>1968</td>\n",
       "      <td>10</td>\n",
       "      <td>My god, it's full of stars\\n</td>\n",
       "      <td>For all those bewildered by the length and pac...</td>\n",
       "      <td>NaN</td>\n",
       "    </tr>\n",
       "    <tr>\n",
       "      <th>9067</th>\n",
       "      <td>2001_ A Space Odyssey</td>\n",
       "      <td>1968</td>\n",
       "      <td>7</td>\n",
       "      <td>Ahead of its time but...\\n</td>\n",
       "      <td>I felt the need to review this movie after rea...</td>\n",
       "      <td>NaN</td>\n",
       "    </tr>\n",
       "    <tr>\n",
       "      <th>9068</th>\n",
       "      <td>2001_ A Space Odyssey</td>\n",
       "      <td>1968</td>\n",
       "      <td>10</td>\n",
       "      <td>A film of monolithic proportions.\\n</td>\n",
       "      <td>A review I have put off for far too long....&lt;b...</td>\n",
       "      <td>NaN</td>\n",
       "    </tr>\n",
       "    <tr>\n",
       "      <th>...</th>\n",
       "      <td>...</td>\n",
       "      <td>...</td>\n",
       "      <td>...</td>\n",
       "      <td>...</td>\n",
       "      <td>...</td>\n",
       "      <td>...</td>\n",
       "    </tr>\n",
       "    <tr>\n",
       "      <th>11162</th>\n",
       "      <td>2001_ A Space Odyssey</td>\n",
       "      <td>1968</td>\n",
       "      <td>10</td>\n",
       "      <td>one of the best movies - ever\\n</td>\n",
       "      <td>i saw the movie for the first time last tuesda...</td>\n",
       "      <td>NaN</td>\n",
       "    </tr>\n",
       "    <tr>\n",
       "      <th>11163</th>\n",
       "      <td>2001_ A Space Odyssey</td>\n",
       "      <td>1968</td>\n",
       "      <td>Null</td>\n",
       "      <td>quite beautiful for it's time\\n</td>\n",
       "      <td>In 1968 I would have been enthralled by the vi...</td>\n",
       "      <td>NaN</td>\n",
       "    </tr>\n",
       "    <tr>\n",
       "      <th>11164</th>\n",
       "      <td>2001_ A Space Odyssey</td>\n",
       "      <td>1968</td>\n",
       "      <td>Null</td>\n",
       "      <td>Dynamic!\\n</td>\n",
       "      <td>I truly appreciate this film for its lack of d...</td>\n",
       "      <td>NaN</td>\n",
       "    </tr>\n",
       "    <tr>\n",
       "      <th>11165</th>\n",
       "      <td>2001_ A Space Odyssey</td>\n",
       "      <td>1968</td>\n",
       "      <td>8</td>\n",
       "      <td>A visually stunning film.\\n</td>\n",
       "      <td>Kubrick was one the greatest directors the 20t...</td>\n",
       "      <td>NaN</td>\n",
       "    </tr>\n",
       "    <tr>\n",
       "      <th>11166</th>\n",
       "      <td>2001_ A Space Odyssey</td>\n",
       "      <td>1968</td>\n",
       "      <td>Null</td>\n",
       "      <td>Snazzy effects and a plot that loses itself in...</td>\n",
       "      <td>Well, well so this is Stanley Kubrick's sci-fi...</td>\n",
       "      <td>NaN</td>\n",
       "    </tr>\n",
       "  </tbody>\n",
       "</table>\n",
       "<p>2103 rows × 6 columns</p>\n",
       "</div>"
      ],
      "text/plain": [
       "                 movie_title  year rating  \\\n",
       "9064   2001_ A Space Odyssey  1968     10   \n",
       "9065   2001_ A Space Odyssey  1968     10   \n",
       "9066   2001_ A Space Odyssey  1968     10   \n",
       "9067   2001_ A Space Odyssey  1968      7   \n",
       "9068   2001_ A Space Odyssey  1968     10   \n",
       "...                      ...   ...    ...   \n",
       "11162  2001_ A Space Odyssey  1968     10   \n",
       "11163  2001_ A Space Odyssey  1968   Null   \n",
       "11164  2001_ A Space Odyssey  1968   Null   \n",
       "11165  2001_ A Space Odyssey  1968      8   \n",
       "11166  2001_ A Space Odyssey  1968   Null   \n",
       "\n",
       "                                                   title  \\\n",
       "9064                                         Legendary\\n   \n",
       "9065                          Unmatched accomplishment\\n   \n",
       "9066                        My god, it's full of stars\\n   \n",
       "9067                          Ahead of its time but...\\n   \n",
       "9068                 A film of monolithic proportions.\\n   \n",
       "...                                                  ...   \n",
       "11162                    one of the best movies - ever\\n   \n",
       "11163                    quite beautiful for it's time\\n   \n",
       "11164                                         Dynamic!\\n   \n",
       "11165                        A visually stunning film.\\n   \n",
       "11166  Snazzy effects and a plot that loses itself in...   \n",
       "\n",
       "                                                  review  average_rating  \n",
       "9064   A stand-alone monument in cinema history, Stan...             NaN  \n",
       "9065   Sometimes reading the user comments on IMDB fi...             NaN  \n",
       "9066   For all those bewildered by the length and pac...             NaN  \n",
       "9067   I felt the need to review this movie after rea...             NaN  \n",
       "9068   A review I have put off for far too long....<b...             NaN  \n",
       "...                                                  ...             ...  \n",
       "11162  i saw the movie for the first time last tuesda...             NaN  \n",
       "11163  In 1968 I would have been enthralled by the vi...             NaN  \n",
       "11164  I truly appreciate this film for its lack of d...             NaN  \n",
       "11165  Kubrick was one the greatest directors the 20t...             NaN  \n",
       "11166  Well, well so this is Stanley Kubrick's sci-fi...             NaN  \n",
       "\n",
       "[2103 rows x 6 columns]"
      ]
     },
     "execution_count": 161,
     "metadata": {},
     "output_type": "execute_result"
    }
   ],
   "source": [
    "# Load dataframe into environment\n",
    "#IMDb_dataframe = pd.read_csv('/work/NLP/NLP_IMDb_Exam/Data/review_dataframe.csv')\n",
    "IMDb_dataframe[IMDb_dataframe['movie_title'] == \"2001_ A Space Odyssey\"]"
   ]
  },
  {
   "cell_type": "code",
   "execution_count": 157,
   "metadata": {},
   "outputs": [
    {
     "name": "stdout",
     "output_type": "stream",
     "text": [
      "Total amount of 'Null'-ratings: 0\n"
     ]
    },
    {
     "data": {
      "text/plain": [
       "movie_title                                   2001_ A Space Odyssey\n",
       "year                                                           1968\n",
       "rating                                                            5\n",
       "title             Visually stunning but not as deep as it preten...\n",
       "review            I bet that Stanley Kubrick spent the last thir...\n",
       "average_rating                                                  NaN\n",
       "Name: 9098, dtype: object"
      ]
     },
     "execution_count": 157,
     "metadata": {},
     "output_type": "execute_result"
    }
   ],
   "source": [
    "print(f\"Total amount of 'Null'-ratings: {sum(IMDb_dataframe['rating']==\"Null\")}\")\n",
    "IMDb_dataframe = IMDb_dataframe[IMDb_dataframe['rating'] != \"Null\"]\n",
    "\n",
    "IMDb_dataframe[IMDb_dataframe['average_rating'] != \"NaN\"]\n",
    "\n",
    "\n",
    "IMDb_dataframe.iloc[8500]"
   ]
  },
  {
   "cell_type": "code",
   "execution_count": 156,
   "metadata": {},
   "outputs": [
    {
     "data": {
      "text/plain": [
       "9040    5.8\n",
       "9042    5.8\n",
       "9043    5.8\n",
       "9044    5.8\n",
       "9045    5.8\n",
       "9046    5.8\n",
       "9047    5.8\n",
       "9048    5.8\n",
       "9049    5.8\n",
       "9051    5.8\n",
       "9052    5.8\n",
       "9053    5.8\n",
       "9054    5.8\n",
       "9055    5.8\n",
       "9056    5.8\n",
       "9060    5.8\n",
       "9061    5.8\n",
       "9063    5.8\n",
       "9064    NaN\n",
       "9065    NaN\n",
       "9066    NaN\n",
       "9067    NaN\n",
       "9068    NaN\n",
       "9069    NaN\n",
       "9070    NaN\n",
       "9072    NaN\n",
       "9073    NaN\n",
       "9074    NaN\n",
       "9075    NaN\n",
       "9076    NaN\n",
       "9077    NaN\n",
       "9078    NaN\n",
       "9079    NaN\n",
       "9081    NaN\n",
       "9082    NaN\n",
       "9083    NaN\n",
       "9084    NaN\n",
       "9085    NaN\n",
       "9086    NaN\n",
       "9087    NaN\n",
       "9088    NaN\n",
       "9089    NaN\n",
       "9090    NaN\n",
       "9091    NaN\n",
       "9092    NaN\n",
       "9093    NaN\n",
       "9094    NaN\n",
       "9095    NaN\n",
       "9096    NaN\n",
       "9097    NaN\n",
       "Name: average_rating, dtype: float64"
      ]
     },
     "execution_count": 156,
     "metadata": {},
     "output_type": "execute_result"
    }
   ],
   "source": [
    "IMDb_dataframe['average_rating'].iloc[8450:8500]"
   ]
  },
  {
   "cell_type": "code",
   "execution_count": 113,
   "metadata": {},
   "outputs": [
    {
     "name": "stdout",
     "output_type": "stream",
     "text": [
      "mean rating from reviews 8.555, vs average imdb rating 7.7\n"
     ]
    }
   ],
   "source": [
    "# Find a way to plot distributions of average_rating and infered rating. Also plot difference.\n",
    "Movie_name = \"Zulu\"\n",
    "IMDb_dataframe[\"rating\"] = pd.to_numeric(IMDb_dataframe[\"rating\"], errors=\"coerce\")\n",
    "Movie_rating = IMDb_dataframe[IMDb_dataframe['movie_title'] == Movie_name][\"rating\"]\n",
    "Movie_rating = IMDb_dataframe[IMDb_dataframe['movie_title'] == Movie_name][\"rating\"]\n",
    "Movie_rating_online = IMDb_dataframe[IMDb_dataframe['movie_title'] == Movie_name][\"average_rating\"]\n",
    "mean_rating = Movie_rating.mean()\n",
    "print(f\"mean rating from reviews {mean_rating}, vs average imdb rating {float(Movie_rating_online.iloc[1])}\")\n"
   ]
  },
  {
   "cell_type": "code",
   "execution_count": 114,
   "metadata": {},
   "outputs": [],
   "source": [
    "#!pip install torch \"transformers[torch]\" datasets evaluate seqeval"
   ]
  },
  {
   "cell_type": "code",
   "execution_count": 115,
   "metadata": {},
   "outputs": [],
   "source": [
    "import numpy as np\n",
    "import pandas as pd\n",
    "import torch\n",
    "import datasets\n",
    "import evaluate\n",
    "from transformers import pipeline\n",
    "from transformers import AutoTokenizer, AutoModelForTokenClassification, AutoModel\n",
    "from transformers import TrainingArguments, Trainer\n",
    "from transformers import DataCollatorForTokenClassification"
   ]
  },
  {
   "cell_type": "code",
   "execution_count": 116,
   "metadata": {},
   "outputs": [
    {
     "data": {
      "text/plain": [
       "424179    7.7\n",
       "243438    7.3\n",
       "830002    8.1\n",
       "264940    7.4\n",
       "879700    5.2\n",
       "         ... \n",
       "269809    7.4\n",
       "884113    7.0\n",
       "624523    NaN\n",
       "805099    8.5\n",
       "122154    7.3\n",
       "Name: average_rating, Length: 10000, dtype: float64"
      ]
     },
     "execution_count": 116,
     "metadata": {},
     "output_type": "execute_result"
    },
    {
     "data": {
      "image/png": "[encoded data removed]",
      "text/plain": [
       "<Figure size 500x500 with 1 Axes>"
      ]
     },
     "metadata": {},
     "output_type": "display_data"
    }
   ],
   "source": [
    "from sentence_transformers import SentenceTransformer\n",
    "import seaborn as sns\n",
    "bertmodel = SentenceTransformer('sentence-transformers/all-MiniLM-L6-v2') # Choose the sentence transformer, most popular used\n",
    "\n",
    "# Subset of data for testing implementation:\n",
    "IMDb_subset = IMDb_dataframe.sample(n=10000, random_state=76)\n",
    "\n",
    "\n",
    "reviews_embedding = bertmodel.encode(IMDb_subset[\"review\"].tolist()) #Embed the reviews in embedding space\n",
    "emb = pd.DataFrame(reviews_embedding) # Pandas dataframe of embeddings\n",
    "\n",
    "emb['rating'] = pd.to_numeric(IMDb_subset['average_rating'], errors='coerce')\n",
    "sns.displot(emb['rating'], )\n",
    "pd.to_numeric(IMDb_subset['average_rating'], errors='coerce')\n"
   ]
  },
  {
   "cell_type": "code",
   "execution_count": 35,
   "metadata": {},
   "outputs": [
    {
     "name": "stderr",
     "output_type": "stream",
     "text": [
      "Map: 100%|██████████| 835602/835602 [05:08<00:00, 2708.77 examples/s]\n"
     ]
    },
    {
     "name": "stdout",
     "output_type": "stream",
     "text": [
      "Dataset({\n",
      "    features: ['text', 'rating', '__index_level_0__', 'input_ids', 'attention_mask'],\n",
      "    num_rows: 668481\n",
      "})\n"
     ]
    }
   ],
   "source": [
    "from datasets import Dataset\n",
    "# Create a DataFrame\n",
    "df = pd.DataFrame({'text': IMDb_dataframe['review'], 'rating': IMDb_dataframe[\"average_rating\"]})\n",
    "# Convert the DataFrame to Hugging Face Dataset\n",
    "dataset = Dataset.from_pandas(df)\n",
    "\n",
    "# Define Tokenizer\n",
    "tokenizer = AutoTokenizer.from_pretrained(model_name)\n",
    "\n",
    "# Tokenize the text in the dataset\n",
    "def tokenize_function(examples):\n",
    "    return tokenizer(examples['text'], padding=\"max_length\", truncation=True)\n",
    "\n",
    "# Apply the tokenizer\n",
    "dataset = dataset.map(tokenize_function, batched=True)\n",
    "\n",
    "# Now you have a dataset in a transformer-friendly format\n",
    "# You can split it into training and validation sets\n",
    "train_test_split = dataset.train_test_split(test_size=0.2)\n",
    "train_dataset = train_test_split['train']\n",
    "test_dataset = train_test_split['test']\n",
    "\n",
    "# Check the resulting format\n",
    "print(train_dataset)"
   ]
  },
  {
   "cell_type": "code",
   "execution_count": null,
   "metadata": {},
   "outputs": [
    {
     "data": {
      "text/plain": [
       "Dataset({\n",
       "    features: ['text', 'rating', '__index_level_0__'],\n",
       "    num_rows: 100\n",
       "})"
      ]
     },
     "execution_count": 17,
     "metadata": {},
     "output_type": "execute_result"
    }
   ],
   "source": [
    "from transformers import Trainer, TrainingArguments, AutoModelForSequenceClassification\n",
    "from datasets import load_dataset\n",
    "\n",
    "# Define variables\n",
    "df = pd.DataFrame({'text': IMDb_dataframe['review'], 'rating': IMDb_dataframe[\"average_rating\"]})\n",
    "# Convert the DataFrame to Hugging Face Dataset\n",
    "dataset_small = Dataset.from_pandas(df.head(100))\n",
    "\n",
    "dataset_small\n",
    "\n",
    "# Define Tokenizer\n",
    "tokenizer = AutoTokenizer.from_pretrained(model_name)\n",
    "\n",
    "# Define model\n",
    "model = AutoModelForSequenceClassification.from_pretrained('your_model_name')\n",
    "\n",
    "# Set training arguments\n",
    "training_args = TrainingArguments(\n",
    "    output_dir='./results',\n",
    "    evaluation_strategy='epoch',\n",
    "    learning_rate=2e-5,\n",
    "    per_device_train_batch_size=16,\n",
    "    num_train_epochs=3,\n",
    ")\n",
    "\n",
    "# Initialize Trainer\n",
    "trainer = Trainer(\n",
    "    model=model,\n",
    "    args=training_args,\n",
    "    train_dataset=dataset['train'],\n",
    "    eval_dataset=dataset['test'],\n",
    ")\n",
    "\n",
    "# Train the model\n",
    "trainer.train()\n"
   ]
  }
 ],
 "metadata": {
  "kernelspec": {
   "display_name": ".venv",
   "language": "python",
   "name": "python3"
  },
  "language_info": {
   "codemirror_mode": {
    "name": "ipython",
    "version": 3
   },
   "file_extension": ".py",
   "mimetype": "text/x-python",
   "name": "python",
   "nbconvert_exporter": "python",
   "pygments_lexer": "ipython3",
   "version": "3.12.3"
  }
 },
 "nbformat": 4,
 "nbformat_minor": 2
}
